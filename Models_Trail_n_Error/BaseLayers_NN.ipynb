{
  "cells": [
    {
      "cell_type": "code",
      "execution_count": null,
      "id": "zwxEG1CJWuEa",
      "metadata": {
        "colab": {
          "base_uri": "https://localhost:8080/"
        },
        "id": "zwxEG1CJWuEa",
        "outputId": "bf0b3763-2083-42f3-8d5e-0be7c9c7fa70"
      },
      "outputs": [
        {
          "output_type": "stream",
          "name": "stdout",
          "text": [
            "Requirement already satisfied: keras-tuner in /usr/local/lib/python3.11/dist-packages (1.4.7)\n",
            "Requirement already satisfied: keras in /usr/local/lib/python3.11/dist-packages (from keras-tuner) (3.8.0)\n",
            "Requirement already satisfied: packaging in /usr/local/lib/python3.11/dist-packages (from keras-tuner) (24.2)\n",
            "Requirement already satisfied: requests in /usr/local/lib/python3.11/dist-packages (from keras-tuner) (2.32.3)\n",
            "Requirement already satisfied: kt-legacy in /usr/local/lib/python3.11/dist-packages (from keras-tuner) (1.0.5)\n",
            "Requirement already satisfied: absl-py in /usr/local/lib/python3.11/dist-packages (from keras->keras-tuner) (1.4.0)\n",
            "Requirement already satisfied: numpy in /usr/local/lib/python3.11/dist-packages (from keras->keras-tuner) (2.0.2)\n",
            "Requirement already satisfied: rich in /usr/local/lib/python3.11/dist-packages (from keras->keras-tuner) (13.9.4)\n",
            "Requirement already satisfied: namex in /usr/local/lib/python3.11/dist-packages (from keras->keras-tuner) (0.0.9)\n",
            "Requirement already satisfied: h5py in /usr/local/lib/python3.11/dist-packages (from keras->keras-tuner) (3.13.0)\n",
            "Requirement already satisfied: optree in /usr/local/lib/python3.11/dist-packages (from keras->keras-tuner) (0.15.0)\n",
            "Requirement already satisfied: ml-dtypes in /usr/local/lib/python3.11/dist-packages (from keras->keras-tuner) (0.4.1)\n",
            "Requirement already satisfied: charset-normalizer<4,>=2 in /usr/local/lib/python3.11/dist-packages (from requests->keras-tuner) (3.4.1)\n",
            "Requirement already satisfied: idna<4,>=2.5 in /usr/local/lib/python3.11/dist-packages (from requests->keras-tuner) (3.10)\n",
            "Requirement already satisfied: urllib3<3,>=1.21.1 in /usr/local/lib/python3.11/dist-packages (from requests->keras-tuner) (2.4.0)\n",
            "Requirement already satisfied: certifi>=2017.4.17 in /usr/local/lib/python3.11/dist-packages (from requests->keras-tuner) (2025.4.26)\n",
            "Requirement already satisfied: typing-extensions>=4.5.0 in /usr/local/lib/python3.11/dist-packages (from optree->keras->keras-tuner) (4.13.2)\n",
            "Requirement already satisfied: markdown-it-py>=2.2.0 in /usr/local/lib/python3.11/dist-packages (from rich->keras->keras-tuner) (3.0.0)\n",
            "Requirement already satisfied: pygments<3.0.0,>=2.13.0 in /usr/local/lib/python3.11/dist-packages (from rich->keras->keras-tuner) (2.19.1)\n",
            "Requirement already satisfied: mdurl~=0.1 in /usr/local/lib/python3.11/dist-packages (from markdown-it-py>=2.2.0->rich->keras->keras-tuner) (0.1.2)\n"
          ]
        }
      ],
      "source": [
        "pip install keras-tuner"
      ]
    },
    {
      "cell_type": "code",
      "execution_count": null,
      "id": "e3149a3d",
      "metadata": {
        "colab": {
          "base_uri": "https://localhost:8080/"
        },
        "id": "e3149a3d",
        "outputId": "3b5619e0-2daa-42ca-ec6d-2125192c6c50"
      },
      "outputs": [
        {
          "output_type": "stream",
          "name": "stdout",
          "text": [
            "   index  AADT_VN  BEGIN_POIN  COUNTY_COD  END_POINT  IRI_VN  IS_IMPROVED  \\\n",
            "0      0    44290         5.3          97        5.4      44            0   \n",
            "1      1    44750         5.3          97        5.4      48            0   \n",
            "2      2    45760         5.3          97        5.4      80            1   \n",
            "3      3    48670         5.3          97        5.4      43            1   \n",
            "4      4    49080         5.3          97        5.4      39            1   \n",
            "\n",
            "       ROUTE_ID  SPEED_LIMI  THROUGH_LA  YEAR_RECOR  curval  \\\n",
            "0  IN0000100000        60.0           4        2013     263   \n",
            "1  IN0000100000        60.0           4        2014     268   \n",
            "2  IN0000100000        60.0           4        2015     192   \n",
            "3  IN0000100000        70.0           4        2016     176   \n",
            "4  IN0000100000        70.0           4        2017     205   \n",
            "\n",
            "                                      geometry_paths  tmiles  tons  value  \n",
            "0  [[[-88.31770505199995, 30.49976574300007], [-8...      15   716    270  \n",
            "1  [[[-88.31770505199995, 30.49976574300007], [-8...      16   750    286  \n",
            "2  [[[-88.31770505199995, 30.49976574300007], [-8...      17   778    292  \n",
            "3  [[[-88.31770505199995, 30.49976574300007], [-8...      17   783    311  \n",
            "4  [[[-88.12412879499999, 30.698415469000054], [-...      17   771    314  \n",
            "<class 'pandas.core.frame.DataFrame'>\n",
            "RangeIndex: 7119 entries, 0 to 7118\n",
            "Data columns (total 16 columns):\n",
            " #   Column          Non-Null Count  Dtype  \n",
            "---  ------          --------------  -----  \n",
            " 0   index           7119 non-null   int64  \n",
            " 1   AADT_VN         7119 non-null   int64  \n",
            " 2   BEGIN_POIN      7119 non-null   float64\n",
            " 3   COUNTY_COD      7119 non-null   int64  \n",
            " 4   END_POINT       7119 non-null   float64\n",
            " 5   IRI_VN          7119 non-null   int64  \n",
            " 6   IS_IMPROVED     7119 non-null   int64  \n",
            " 7   ROUTE_ID        7119 non-null   object \n",
            " 8   SPEED_LIMI      7119 non-null   float64\n",
            " 9   THROUGH_LA      7119 non-null   int64  \n",
            " 10  YEAR_RECOR      7119 non-null   int64  \n",
            " 11  curval          7119 non-null   int64  \n",
            " 12  geometry_paths  7119 non-null   object \n",
            " 13  tmiles          7119 non-null   int64  \n",
            " 14  tons            7119 non-null   int64  \n",
            " 15  value           7119 non-null   int64  \n",
            "dtypes: float64(3), int64(11), object(2)\n",
            "memory usage: 890.0+ KB\n",
            "None\n"
          ]
        }
      ],
      "source": [
        "import numpy as np\n",
        "from tensorflow.keras.models import Sequential\n",
        "from tensorflow.keras.layers import LSTM\n",
        "from tensorflow.keras.layers import Dense, Dropout\n",
        "from tensorflow import keras\n",
        "from kerastuner.tuners import RandomSearch\n",
        "import pandas as pd\n",
        "from matplotlib import pyplot as plt\n",
        "from sklearn.preprocessing import StandardScaler\n",
        "from sklearn.model_selection import train_test_split\n",
        "from sklearn.metrics import mean_squared_error\n",
        "import seaborn as sns\n",
        "\n",
        "pd.set_option('display.max_rows', None)\n",
        "pd.set_option('display.max_columns', None)\n",
        "\n",
        "# Read the CSV file into a DataFrame\n",
        "df = pd.read_csv('/content/Final_Dataset_2013_2022.csv')\n",
        "\n",
        "# Display the first 5 rows\n",
        "print(df.head())\n",
        "\n",
        "# Print the column names and their data types\n",
        "print(df.info())"
      ]
    },
    {
      "cell_type": "code",
      "execution_count": null,
      "id": "FVrTHU6iDKjj",
      "metadata": {
        "id": "FVrTHU6iDKjj"
      },
      "outputs": [],
      "source": [
        "df.index = range(1, len(df) + 1)\n",
        "df.reset_index(inplace=True, names=['new_index'])  # Add 'new_index' as a column\n",
        "\n",
        "# Method 2: Creating a new column directly\n",
        "df['new_index'] = range(1, len(df) + 1)\n",
        "\n",
        "# If you want 'index' instead of 'new_index'\n",
        "df.rename(columns={'new_index': 'index'}, inplace=True)\n"
      ]
    },
    {
      "cell_type": "code",
      "execution_count": null,
      "id": "b3b4e2c2",
      "metadata": {
        "colab": {
          "base_uri": "https://localhost:8080/"
        },
        "id": "b3b4e2c2",
        "outputId": "146fd3e4-123f-472f-dea0-f29de1375886"
      },
      "outputs": [
        {
          "output_type": "stream",
          "name": "stdout",
          "text": [
            "Index(['index', 'index', 'AADT_VN', 'BEGIN_POIN', 'COUNTY_COD', 'END_POINT',\n",
            "       'IRI_VN', 'IS_IMPROVED', 'ROUTE_ID', 'SPEED_LIMI', 'THROUGH_LA',\n",
            "       'YEAR_RECOR', 'curval', 'geometry_paths', 'tmiles', 'tons', 'value'],\n",
            "      dtype='object')\n"
          ]
        }
      ],
      "source": [
        "print(df.columns)"
      ]
    },
    {
      "cell_type": "code",
      "execution_count": null,
      "id": "0e0eb2df",
      "metadata": {
        "id": "0e0eb2df"
      },
      "outputs": [],
      "source": [
        "df['index'] = df['index'] + 1"
      ]
    },
    {
      "cell_type": "code",
      "source": [],
      "metadata": {
        "id": "UFV-67N-jEFS"
      },
      "id": "UFV-67N-jEFS",
      "execution_count": null,
      "outputs": []
    },
    {
      "cell_type": "code",
      "source": [],
      "metadata": {
        "id": "AUWXhP1AjMWq"
      },
      "id": "AUWXhP1AjMWq",
      "execution_count": null,
      "outputs": []
    },
    {
      "cell_type": "code",
      "execution_count": null,
      "id": "24e11c9b",
      "metadata": {
        "id": "24e11c9b"
      },
      "outputs": [],
      "source": [
        "train_months = df['index']"
      ]
    },
    {
      "cell_type": "code",
      "execution_count": null,
      "id": "359bd1b8",
      "metadata": {
        "id": "359bd1b8"
      },
      "outputs": [],
      "source": [
        "cols = ['AADT_VN', 'BEGIN_POIN', 'COUNTY_COD', 'END_POINT', 'IS_IMPROVED', 'SPEED_LIMI', 'THROUGH_LA', 'YEAR_RECOR', 'curval', 'tmiles', 'tons', 'value']\n",
        "target_col = 'IRI_VN'"
      ]
    },
    {
      "cell_type": "code",
      "execution_count": null,
      "id": "8a7edc89",
      "metadata": {
        "id": "8a7edc89"
      },
      "outputs": [],
      "source": [
        "df_for_training = df[cols + [target_col]]"
      ]
    },
    {
      "cell_type": "code",
      "execution_count": null,
      "id": "8a5bea61",
      "metadata": {
        "id": "8a5bea61"
      },
      "outputs": [],
      "source": [
        "scaler = StandardScaler()\n",
        "scaler = scaler.fit(df_for_training)\n",
        "df_for_training_scaled = scaler.transform(df_for_training)"
      ]
    },
    {
      "cell_type": "code",
      "execution_count": null,
      "id": "fa4fd62b",
      "metadata": {
        "id": "fa4fd62b"
      },
      "outputs": [],
      "source": [
        "trainX = []\n",
        "trainY = []"
      ]
    },
    {
      "cell_type": "code",
      "execution_count": null,
      "id": "48be5cf4",
      "metadata": {
        "id": "48be5cf4"
      },
      "outputs": [],
      "source": [
        "n_future = 1\n",
        "n_past = 8"
      ]
    },
    {
      "cell_type": "code",
      "execution_count": null,
      "id": "52289938",
      "metadata": {
        "id": "52289938"
      },
      "outputs": [],
      "source": [
        "for i in range(n_past, len(df_for_training_scaled) - n_future + 1):\n",
        "    trainX.append(df_for_training_scaled[i - n_past:i, 0:len(cols)])  # Only features\n",
        "    trainY.append(df_for_training_scaled[i + n_future - 1:i + n_future, len(cols)])"
      ]
    },
    {
      "cell_type": "code",
      "source": [
        "print(trainX[0])\n",
        "print(trainY[0])"
      ],
      "metadata": {
        "colab": {
          "base_uri": "https://localhost:8080/"
        },
        "id": "1RIvOuQRdc-7",
        "outputId": "38e010ef-4ba2-4e14-fa45-95b0df13941e"
      },
      "id": "1RIvOuQRdc-7",
      "execution_count": null,
      "outputs": [
        {
          "output_type": "stream",
          "name": "stdout",
          "text": [
            "[[-0.34110114 -1.31424975  0.74796505 -1.31425057 -0.71247729  0.58182594\n",
            "  -0.65901694 -1.48595576 -1.15411307 -1.1350767  -1.6503149  -1.11213563]\n",
            " [-0.32401706 -1.31424975  0.74796505 -1.31425057 -0.71247729  0.58182594\n",
            "  -0.65901694 -1.12450706 -1.14879353 -1.12163819 -1.62843867 -1.09547954]\n",
            " [-0.28650636 -1.31424975  0.74796505 -1.31425057  1.40355351  0.58182594\n",
            "  -0.65901694 -0.76305836 -1.22965062 -1.10819969 -1.61042296 -1.0892335 ]\n",
            " [-0.17843098 -1.31424975  0.74796505 -1.31425057  1.40355351  0.88838129\n",
            "  -0.65901694 -0.40160966 -1.24667317 -1.10819969 -1.60720587 -1.06945439]\n",
            " [-0.16320387 -1.31424975  0.74796505 -1.31425057  1.40355351  0.88838129\n",
            "  -0.65901694 -0.04016097 -1.2158198  -1.10819969 -1.61492689 -1.06633138]\n",
            " [-0.08684545 -1.31424975  0.74796505 -1.31425057 -0.71247729  0.88838129\n",
            "  -0.65901694  0.32128773 -1.17645516 -1.10819969 -1.6014151  -1.05696232]\n",
            " [-0.10404095 -1.31424975  0.74796505 -1.31425057 -0.71247729  0.88838129\n",
            "  -0.65901694  0.68273643 -0.98707934 -1.06788419 -1.42254479 -0.98721494]\n",
            " [-0.31313524 -1.31424975  0.74796505 -1.31425057 -0.71247729  0.84672394\n",
            "  -0.65901694  1.04418513 -1.17858298 -1.12163819 -1.58597306 -1.10172557]]\n",
            "[-0.80518051]\n"
          ]
        }
      ]
    },
    {
      "cell_type": "code",
      "execution_count": null,
      "id": "0dae9f17",
      "metadata": {
        "id": "0dae9f17"
      },
      "outputs": [],
      "source": [
        "trainX, trainY = np.array(trainX), np.array(trainY)"
      ]
    },
    {
      "cell_type": "code",
      "execution_count": null,
      "id": "9281c255",
      "metadata": {
        "colab": {
          "base_uri": "https://localhost:8080/"
        },
        "id": "9281c255",
        "outputId": "b554a544-296d-43e9-b01f-2a65f11de94a"
      },
      "outputs": [
        {
          "output_type": "stream",
          "name": "stdout",
          "text": [
            "trainX shape == (7111, 8, 12).\n",
            "trainY shape == (7111, 1).\n"
          ]
        }
      ],
      "source": [
        "print('trainX shape == {}.'.format(trainX.shape))\n",
        "print('trainY shape == {}.'.format(trainY.shape))"
      ]
    },
    {
      "cell_type": "code",
      "execution_count": null,
      "id": "fed6bfc7",
      "metadata": {
        "colab": {
          "base_uri": "https://localhost:8080/"
        },
        "id": "fed6bfc7",
        "outputId": "adb2be06-c0c7-4907-9989-cb2ec2a5a92d"
      },
      "outputs": [
        {
          "output_type": "stream",
          "name": "stdout",
          "text": [
            "[[-0.80518051]\n",
            " [-0.32214006]\n",
            " [-0.48315354]\n",
            " ...\n",
            " [ 5.58168772]\n",
            " [ 1.43111789]\n",
            " [ 1.39533711]]\n"
          ]
        }
      ],
      "source": [
        "print(trainY)"
      ]
    },
    {
      "cell_type": "code",
      "execution_count": null,
      "id": "6c83a803",
      "metadata": {
        "id": "6c83a803"
      },
      "outputs": [],
      "source": [
        "X_train, X_test, y_train, y_test = train_test_split(trainX, trainY, test_size=0.2, random_state=42)"
      ]
    },
    {
      "cell_type": "code",
      "source": [
        "print(X_train[0])\n",
        "print(y_train[0])"
      ],
      "metadata": {
        "colab": {
          "base_uri": "https://localhost:8080/"
        },
        "id": "oxgi7vHydgmY",
        "outputId": "cd3273de-504b-4d49-cc2a-30de94926baa"
      },
      "id": "oxgi7vHydgmY",
      "execution_count": null,
      "outputs": [
        {
          "output_type": "stream",
          "name": "stdout",
          "text": [
            "[[-0.09152501  0.22168432  1.21721743  0.22168412  1.40355351 -1.25750615\n",
            "  -0.65901694 -1.48595576  0.6449573  -0.24813563  0.17828012  0.63259008]\n",
            " [-0.05661406  0.22168432  1.21721743  0.22168412  1.40355351 -1.25750615\n",
            "  -0.65901694 -1.12450706  0.87050604 -0.23469713  0.2651416   0.83975023]\n",
            " [-0.03804441  0.22168432  1.21721743  0.22168412 -0.71247729 -1.25750615\n",
            "  -0.65901694 -0.76305836  0.96306613 -0.27501263  0.16219466  1.00839317]\n",
            " [-0.10229541  0.22168432  1.21721743  0.22168412 -0.71247729 -1.25750615\n",
            "  -0.65901694 -0.40160966  0.99498341 -0.27501263  0.17313278  1.0854276 ]\n",
            " [-0.05141456  0.22168432  1.21721743  0.22168412 -0.71247729 -1.25750615\n",
            "   0.81445717 -0.04016097  1.04498714 -0.26157413  0.20273002  1.07605854]\n",
            " [-0.03143361  0.22168432  1.21721743  0.22168412  1.40355351  0.88838129\n",
            "   0.81445717  0.32128773  1.35245688 -0.20782012  0.30503354  1.29258775]\n",
            " [-0.01676358  0.22168432  1.21721743  0.22168412 -0.71247729 -1.25750615\n",
            "   0.81445717  0.68273643 -0.86047415  1.56606202  1.13118274 -0.86749927]\n",
            " [-0.08714257  0.22168432  1.21721743  0.22168412 -0.71247729  0.84672394\n",
            "   0.81445717  1.04418513 -1.01261316  1.49886951  1.02308845 -0.93308264]]\n",
            "[-0.8230709]\n"
          ]
        }
      ]
    },
    {
      "cell_type": "code",
      "source": [
        "print('X_train shape == {}.'.format(X_train.shape))\n",
        "print('X_test shape == {}.'.format(X_test.shape))\n",
        "print('y_train shape == {}.'.format(y_train.shape))\n",
        "print('y_test shape == {}.'.format(y_test.shape))"
      ],
      "metadata": {
        "colab": {
          "base_uri": "https://localhost:8080/"
        },
        "id": "7RydUX2nQBMD",
        "outputId": "d8b1579f-1519-4421-f258-2b86f33e49e9"
      },
      "id": "7RydUX2nQBMD",
      "execution_count": null,
      "outputs": [
        {
          "output_type": "stream",
          "name": "stdout",
          "text": [
            "X_train shape == (5688, 8, 12).\n",
            "X_test shape == (1423, 8, 12).\n",
            "y_train shape == (5688, 1).\n",
            "y_test shape == (1423, 1).\n"
          ]
        }
      ]
    },
    {
      "cell_type": "code",
      "execution_count": null,
      "id": "160o8MCs2nxJ",
      "metadata": {
        "colab": {
          "base_uri": "https://localhost:8080/",
          "height": 1000
        },
        "id": "160o8MCs2nxJ",
        "outputId": "23b7270b-1bef-4665-d1ae-dc2763bd2dbe"
      },
      "outputs": [
        {
          "output_type": "display_data",
          "data": {
            "text/plain": [
              "\u001b[1mModel: \"sequential_2\"\u001b[0m\n"
            ],
            "text/html": [
              "<pre style=\"white-space:pre;overflow-x:auto;line-height:normal;font-family:Menlo,'DejaVu Sans Mono',consolas,'Courier New',monospace\"><span style=\"font-weight: bold\">Model: \"sequential_2\"</span>\n",
              "</pre>\n"
            ]
          },
          "metadata": {}
        },
        {
          "output_type": "display_data",
          "data": {
            "text/plain": [
              "┏━━━━━━━━━━━━━━━━━━━━━━━━━━━━━━━━━┳━━━━━━━━━━━━━━━━━━━━━━━━┳━━━━━━━━━━━━━━━┓\n",
              "┃\u001b[1m \u001b[0m\u001b[1mLayer (type)                   \u001b[0m\u001b[1m \u001b[0m┃\u001b[1m \u001b[0m\u001b[1mOutput Shape          \u001b[0m\u001b[1m \u001b[0m┃\u001b[1m \u001b[0m\u001b[1m      Param #\u001b[0m\u001b[1m \u001b[0m┃\n",
              "┡━━━━━━━━━━━━━━━━━━━━━━━━━━━━━━━━━╇━━━━━━━━━━━━━━━━━━━━━━━━╇━━━━━━━━━━━━━━━┩\n",
              "│ dense_12 (\u001b[38;5;33mDense\u001b[0m)                │ (\u001b[38;5;45mNone\u001b[0m, \u001b[38;5;34m8\u001b[0m, \u001b[38;5;34m128\u001b[0m)         │         \u001b[38;5;34m1,664\u001b[0m │\n",
              "├─────────────────────────────────┼────────────────────────┼───────────────┤\n",
              "│ dropout_10 (\u001b[38;5;33mDropout\u001b[0m)            │ (\u001b[38;5;45mNone\u001b[0m, \u001b[38;5;34m8\u001b[0m, \u001b[38;5;34m128\u001b[0m)         │             \u001b[38;5;34m0\u001b[0m │\n",
              "├─────────────────────────────────┼────────────────────────┼───────────────┤\n",
              "│ dense_13 (\u001b[38;5;33mDense\u001b[0m)                │ (\u001b[38;5;45mNone\u001b[0m, \u001b[38;5;34m8\u001b[0m, \u001b[38;5;34m96\u001b[0m)          │        \u001b[38;5;34m12,384\u001b[0m │\n",
              "├─────────────────────────────────┼────────────────────────┼───────────────┤\n",
              "│ dropout_11 (\u001b[38;5;33mDropout\u001b[0m)            │ (\u001b[38;5;45mNone\u001b[0m, \u001b[38;5;34m8\u001b[0m, \u001b[38;5;34m96\u001b[0m)          │             \u001b[38;5;34m0\u001b[0m │\n",
              "├─────────────────────────────────┼────────────────────────┼───────────────┤\n",
              "│ flatten_2 (\u001b[38;5;33mFlatten\u001b[0m)             │ (\u001b[38;5;45mNone\u001b[0m, \u001b[38;5;34m768\u001b[0m)            │             \u001b[38;5;34m0\u001b[0m │\n",
              "├─────────────────────────────────┼────────────────────────┼───────────────┤\n",
              "│ dense_14 (\u001b[38;5;33mDense\u001b[0m)                │ (\u001b[38;5;45mNone\u001b[0m, \u001b[38;5;34m64\u001b[0m)             │        \u001b[38;5;34m49,216\u001b[0m │\n",
              "├─────────────────────────────────┼────────────────────────┼───────────────┤\n",
              "│ dropout_12 (\u001b[38;5;33mDropout\u001b[0m)            │ (\u001b[38;5;45mNone\u001b[0m, \u001b[38;5;34m64\u001b[0m)             │             \u001b[38;5;34m0\u001b[0m │\n",
              "├─────────────────────────────────┼────────────────────────┼───────────────┤\n",
              "│ dense_15 (\u001b[38;5;33mDense\u001b[0m)                │ (\u001b[38;5;45mNone\u001b[0m, \u001b[38;5;34m1\u001b[0m)              │            \u001b[38;5;34m65\u001b[0m │\n",
              "└─────────────────────────────────┴────────────────────────┴───────────────┘\n"
            ],
            "text/html": [
              "<pre style=\"white-space:pre;overflow-x:auto;line-height:normal;font-family:Menlo,'DejaVu Sans Mono',consolas,'Courier New',monospace\">┏━━━━━━━━━━━━━━━━━━━━━━━━━━━━━━━━━┳━━━━━━━━━━━━━━━━━━━━━━━━┳━━━━━━━━━━━━━━━┓\n",
              "┃<span style=\"font-weight: bold\"> Layer (type)                    </span>┃<span style=\"font-weight: bold\"> Output Shape           </span>┃<span style=\"font-weight: bold\">       Param # </span>┃\n",
              "┡━━━━━━━━━━━━━━━━━━━━━━━━━━━━━━━━━╇━━━━━━━━━━━━━━━━━━━━━━━━╇━━━━━━━━━━━━━━━┩\n",
              "│ dense_12 (<span style=\"color: #0087ff; text-decoration-color: #0087ff\">Dense</span>)                │ (<span style=\"color: #00d7ff; text-decoration-color: #00d7ff\">None</span>, <span style=\"color: #00af00; text-decoration-color: #00af00\">8</span>, <span style=\"color: #00af00; text-decoration-color: #00af00\">128</span>)         │         <span style=\"color: #00af00; text-decoration-color: #00af00\">1,664</span> │\n",
              "├─────────────────────────────────┼────────────────────────┼───────────────┤\n",
              "│ dropout_10 (<span style=\"color: #0087ff; text-decoration-color: #0087ff\">Dropout</span>)            │ (<span style=\"color: #00d7ff; text-decoration-color: #00d7ff\">None</span>, <span style=\"color: #00af00; text-decoration-color: #00af00\">8</span>, <span style=\"color: #00af00; text-decoration-color: #00af00\">128</span>)         │             <span style=\"color: #00af00; text-decoration-color: #00af00\">0</span> │\n",
              "├─────────────────────────────────┼────────────────────────┼───────────────┤\n",
              "│ dense_13 (<span style=\"color: #0087ff; text-decoration-color: #0087ff\">Dense</span>)                │ (<span style=\"color: #00d7ff; text-decoration-color: #00d7ff\">None</span>, <span style=\"color: #00af00; text-decoration-color: #00af00\">8</span>, <span style=\"color: #00af00; text-decoration-color: #00af00\">96</span>)          │        <span style=\"color: #00af00; text-decoration-color: #00af00\">12,384</span> │\n",
              "├─────────────────────────────────┼────────────────────────┼───────────────┤\n",
              "│ dropout_11 (<span style=\"color: #0087ff; text-decoration-color: #0087ff\">Dropout</span>)            │ (<span style=\"color: #00d7ff; text-decoration-color: #00d7ff\">None</span>, <span style=\"color: #00af00; text-decoration-color: #00af00\">8</span>, <span style=\"color: #00af00; text-decoration-color: #00af00\">96</span>)          │             <span style=\"color: #00af00; text-decoration-color: #00af00\">0</span> │\n",
              "├─────────────────────────────────┼────────────────────────┼───────────────┤\n",
              "│ flatten_2 (<span style=\"color: #0087ff; text-decoration-color: #0087ff\">Flatten</span>)             │ (<span style=\"color: #00d7ff; text-decoration-color: #00d7ff\">None</span>, <span style=\"color: #00af00; text-decoration-color: #00af00\">768</span>)            │             <span style=\"color: #00af00; text-decoration-color: #00af00\">0</span> │\n",
              "├─────────────────────────────────┼────────────────────────┼───────────────┤\n",
              "│ dense_14 (<span style=\"color: #0087ff; text-decoration-color: #0087ff\">Dense</span>)                │ (<span style=\"color: #00d7ff; text-decoration-color: #00d7ff\">None</span>, <span style=\"color: #00af00; text-decoration-color: #00af00\">64</span>)             │        <span style=\"color: #00af00; text-decoration-color: #00af00\">49,216</span> │\n",
              "├─────────────────────────────────┼────────────────────────┼───────────────┤\n",
              "│ dropout_12 (<span style=\"color: #0087ff; text-decoration-color: #0087ff\">Dropout</span>)            │ (<span style=\"color: #00d7ff; text-decoration-color: #00d7ff\">None</span>, <span style=\"color: #00af00; text-decoration-color: #00af00\">64</span>)             │             <span style=\"color: #00af00; text-decoration-color: #00af00\">0</span> │\n",
              "├─────────────────────────────────┼────────────────────────┼───────────────┤\n",
              "│ dense_15 (<span style=\"color: #0087ff; text-decoration-color: #0087ff\">Dense</span>)                │ (<span style=\"color: #00d7ff; text-decoration-color: #00d7ff\">None</span>, <span style=\"color: #00af00; text-decoration-color: #00af00\">1</span>)              │            <span style=\"color: #00af00; text-decoration-color: #00af00\">65</span> │\n",
              "└─────────────────────────────────┴────────────────────────┴───────────────┘\n",
              "</pre>\n"
            ]
          },
          "metadata": {}
        },
        {
          "output_type": "display_data",
          "data": {
            "text/plain": [
              "\u001b[1m Total params: \u001b[0m\u001b[38;5;34m63,329\u001b[0m (247.38 KB)\n"
            ],
            "text/html": [
              "<pre style=\"white-space:pre;overflow-x:auto;line-height:normal;font-family:Menlo,'DejaVu Sans Mono',consolas,'Courier New',monospace\"><span style=\"font-weight: bold\"> Total params: </span><span style=\"color: #00af00; text-decoration-color: #00af00\">63,329</span> (247.38 KB)\n",
              "</pre>\n"
            ]
          },
          "metadata": {}
        },
        {
          "output_type": "display_data",
          "data": {
            "text/plain": [
              "\u001b[1m Trainable params: \u001b[0m\u001b[38;5;34m63,329\u001b[0m (247.38 KB)\n"
            ],
            "text/html": [
              "<pre style=\"white-space:pre;overflow-x:auto;line-height:normal;font-family:Menlo,'DejaVu Sans Mono',consolas,'Courier New',monospace\"><span style=\"font-weight: bold\"> Trainable params: </span><span style=\"color: #00af00; text-decoration-color: #00af00\">63,329</span> (247.38 KB)\n",
              "</pre>\n"
            ]
          },
          "metadata": {}
        },
        {
          "output_type": "display_data",
          "data": {
            "text/plain": [
              "\u001b[1m Non-trainable params: \u001b[0m\u001b[38;5;34m0\u001b[0m (0.00 B)\n"
            ],
            "text/html": [
              "<pre style=\"white-space:pre;overflow-x:auto;line-height:normal;font-family:Menlo,'DejaVu Sans Mono',consolas,'Courier New',monospace\"><span style=\"font-weight: bold\"> Non-trainable params: </span><span style=\"color: #00af00; text-decoration-color: #00af00\">0</span> (0.00 B)\n",
              "</pre>\n"
            ]
          },
          "metadata": {}
        },
        {
          "output_type": "stream",
          "name": "stdout",
          "text": [
            "Epoch 1/200\n",
            "\u001b[1m320/320\u001b[0m \u001b[32m━━━━━━━━━━━━━━━━━━━━\u001b[0m\u001b[37m\u001b[0m \u001b[1m4s\u001b[0m 5ms/step - loss: 3.3153 - val_loss: 1.9248\n",
            "Epoch 2/200\n",
            "\u001b[1m320/320\u001b[0m \u001b[32m━━━━━━━━━━━━━━━━━━━━\u001b[0m\u001b[37m\u001b[0m \u001b[1m3s\u001b[0m 6ms/step - loss: 1.7040 - val_loss: 1.3192\n",
            "Epoch 3/200\n",
            "\u001b[1m320/320\u001b[0m \u001b[32m━━━━━━━━━━━━━━━━━━━━\u001b[0m\u001b[37m\u001b[0m \u001b[1m3s\u001b[0m 8ms/step - loss: 1.1763 - val_loss: 1.0180\n",
            "Epoch 4/200\n",
            "\u001b[1m320/320\u001b[0m \u001b[32m━━━━━━━━━━━━━━━━━━━━\u001b[0m\u001b[37m\u001b[0m \u001b[1m4s\u001b[0m 5ms/step - loss: 0.9179 - val_loss: 0.9022\n",
            "Epoch 5/200\n",
            "\u001b[1m320/320\u001b[0m \u001b[32m━━━━━━━━━━━━━━━━━━━━\u001b[0m\u001b[37m\u001b[0m \u001b[1m1s\u001b[0m 3ms/step - loss: 0.8245 - val_loss: 0.8263\n",
            "Epoch 6/200\n",
            "\u001b[1m320/320\u001b[0m \u001b[32m━━━━━━━━━━━━━━━━━━━━\u001b[0m\u001b[37m\u001b[0m \u001b[1m1s\u001b[0m 3ms/step - loss: 0.7803 - val_loss: 0.7990\n",
            "Epoch 7/200\n",
            "\u001b[1m320/320\u001b[0m \u001b[32m━━━━━━━━━━━━━━━━━━━━\u001b[0m\u001b[37m\u001b[0m \u001b[1m1s\u001b[0m 4ms/step - loss: 0.7236 - val_loss: 0.7637\n",
            "Epoch 8/200\n",
            "\u001b[1m320/320\u001b[0m \u001b[32m━━━━━━━━━━━━━━━━━━━━\u001b[0m\u001b[37m\u001b[0m \u001b[1m1s\u001b[0m 3ms/step - loss: 0.6987 - val_loss: 0.7507\n",
            "Epoch 9/200\n",
            "\u001b[1m320/320\u001b[0m \u001b[32m━━━━━━━━━━━━━━━━━━━━\u001b[0m\u001b[37m\u001b[0m \u001b[1m1s\u001b[0m 3ms/step - loss: 0.6832 - val_loss: 0.7041\n",
            "Epoch 10/200\n",
            "\u001b[1m320/320\u001b[0m \u001b[32m━━━━━━━━━━━━━━━━━━━━\u001b[0m\u001b[37m\u001b[0m \u001b[1m1s\u001b[0m 2ms/step - loss: 0.6790 - val_loss: 0.6947\n",
            "Epoch 11/200\n",
            "\u001b[1m320/320\u001b[0m \u001b[32m━━━━━━━━━━━━━━━━━━━━\u001b[0m\u001b[37m\u001b[0m \u001b[1m1s\u001b[0m 3ms/step - loss: 0.7045 - val_loss: 0.6740\n",
            "Epoch 12/200\n",
            "\u001b[1m320/320\u001b[0m \u001b[32m━━━━━━━━━━━━━━━━━━━━\u001b[0m\u001b[37m\u001b[0m \u001b[1m1s\u001b[0m 3ms/step - loss: 0.6245 - val_loss: 0.6794\n",
            "Epoch 13/200\n",
            "\u001b[1m320/320\u001b[0m \u001b[32m━━━━━━━━━━━━━━━━━━━━\u001b[0m\u001b[37m\u001b[0m \u001b[1m1s\u001b[0m 3ms/step - loss: 0.6341 - val_loss: 0.6483\n",
            "Epoch 14/200\n",
            "\u001b[1m320/320\u001b[0m \u001b[32m━━━━━━━━━━━━━━━━━━━━\u001b[0m\u001b[37m\u001b[0m \u001b[1m1s\u001b[0m 2ms/step - loss: 0.6234 - val_loss: 0.6427\n",
            "Epoch 15/200\n",
            "\u001b[1m320/320\u001b[0m \u001b[32m━━━━━━━━━━━━━━━━━━━━\u001b[0m\u001b[37m\u001b[0m \u001b[1m1s\u001b[0m 2ms/step - loss: 0.5741 - val_loss: 0.6669\n",
            "Epoch 16/200\n",
            "\u001b[1m320/320\u001b[0m \u001b[32m━━━━━━━━━━━━━━━━━━━━\u001b[0m\u001b[37m\u001b[0m \u001b[1m1s\u001b[0m 3ms/step - loss: 0.6387 - val_loss: 0.6572\n",
            "Epoch 17/200\n",
            "\u001b[1m320/320\u001b[0m \u001b[32m━━━━━━━━━━━━━━━━━━━━\u001b[0m\u001b[37m\u001b[0m \u001b[1m1s\u001b[0m 3ms/step - loss: 0.5883 - val_loss: 0.6303\n",
            "Epoch 18/200\n",
            "\u001b[1m320/320\u001b[0m \u001b[32m━━━━━━━━━━━━━━━━━━━━\u001b[0m\u001b[37m\u001b[0m \u001b[1m1s\u001b[0m 3ms/step - loss: 0.5809 - val_loss: 0.6214\n",
            "Epoch 19/200\n",
            "\u001b[1m320/320\u001b[0m \u001b[32m━━━━━━━━━━━━━━━━━━━━\u001b[0m\u001b[37m\u001b[0m \u001b[1m1s\u001b[0m 3ms/step - loss: 0.6214 - val_loss: 0.6249\n",
            "Epoch 20/200\n",
            "\u001b[1m320/320\u001b[0m \u001b[32m━━━━━━━━━━━━━━━━━━━━\u001b[0m\u001b[37m\u001b[0m \u001b[1m1s\u001b[0m 3ms/step - loss: 0.5689 - val_loss: 0.6126\n",
            "Epoch 21/200\n",
            "\u001b[1m320/320\u001b[0m \u001b[32m━━━━━━━━━━━━━━━━━━━━\u001b[0m\u001b[37m\u001b[0m \u001b[1m1s\u001b[0m 2ms/step - loss: 0.6008 - val_loss: 0.5964\n",
            "Epoch 22/200\n",
            "\u001b[1m320/320\u001b[0m \u001b[32m━━━━━━━━━━━━━━━━━━━━\u001b[0m\u001b[37m\u001b[0m \u001b[1m1s\u001b[0m 3ms/step - loss: 0.5821 - val_loss: 0.6024\n",
            "Epoch 23/200\n",
            "\u001b[1m320/320\u001b[0m \u001b[32m━━━━━━━━━━━━━━━━━━━━\u001b[0m\u001b[37m\u001b[0m \u001b[1m1s\u001b[0m 3ms/step - loss: 0.5659 - val_loss: 0.5985\n",
            "Epoch 24/200\n",
            "\u001b[1m320/320\u001b[0m \u001b[32m━━━━━━━━━━━━━━━━━━━━\u001b[0m\u001b[37m\u001b[0m \u001b[1m1s\u001b[0m 3ms/step - loss: 0.5624 - val_loss: 0.6166\n",
            "Epoch 25/200\n",
            "\u001b[1m320/320\u001b[0m \u001b[32m━━━━━━━━━━━━━━━━━━━━\u001b[0m\u001b[37m\u001b[0m \u001b[1m1s\u001b[0m 3ms/step - loss: 0.5580 - val_loss: 0.6037\n",
            "Epoch 26/200\n",
            "\u001b[1m320/320\u001b[0m \u001b[32m━━━━━━━━━━━━━━━━━━━━\u001b[0m\u001b[37m\u001b[0m \u001b[1m1s\u001b[0m 3ms/step - loss: 0.5754 - val_loss: 0.5928\n",
            "Epoch 27/200\n",
            "\u001b[1m320/320\u001b[0m \u001b[32m━━━━━━━━━━━━━━━━━━━━\u001b[0m\u001b[37m\u001b[0m \u001b[1m1s\u001b[0m 3ms/step - loss: 0.5927 - val_loss: 0.5885\n",
            "Epoch 28/200\n",
            "\u001b[1m320/320\u001b[0m \u001b[32m━━━━━━━━━━━━━━━━━━━━\u001b[0m\u001b[37m\u001b[0m \u001b[1m1s\u001b[0m 3ms/step - loss: 0.5804 - val_loss: 0.6201\n",
            "Epoch 29/200\n",
            "\u001b[1m320/320\u001b[0m \u001b[32m━━━━━━━━━━━━━━━━━━━━\u001b[0m\u001b[37m\u001b[0m \u001b[1m1s\u001b[0m 3ms/step - loss: 0.5745 - val_loss: 0.6042\n",
            "Epoch 30/200\n",
            "\u001b[1m320/320\u001b[0m \u001b[32m━━━━━━━━━━━━━━━━━━━━\u001b[0m\u001b[37m\u001b[0m \u001b[1m1s\u001b[0m 3ms/step - loss: 0.5840 - val_loss: 0.5955\n",
            "Epoch 31/200\n",
            "\u001b[1m320/320\u001b[0m \u001b[32m━━━━━━━━━━━━━━━━━━━━\u001b[0m\u001b[37m\u001b[0m \u001b[1m1s\u001b[0m 3ms/step - loss: 0.6286 - val_loss: 0.5868\n",
            "Epoch 32/200\n",
            "\u001b[1m320/320\u001b[0m \u001b[32m━━━━━━━━━━━━━━━━━━━━\u001b[0m\u001b[37m\u001b[0m \u001b[1m1s\u001b[0m 3ms/step - loss: 0.5368 - val_loss: 0.6029\n",
            "Epoch 33/200\n",
            "\u001b[1m320/320\u001b[0m \u001b[32m━━━━━━━━━━━━━━━━━━━━\u001b[0m\u001b[37m\u001b[0m \u001b[1m1s\u001b[0m 3ms/step - loss: 0.5327 - val_loss: 0.5663\n",
            "Epoch 34/200\n",
            "\u001b[1m320/320\u001b[0m \u001b[32m━━━━━━━━━━━━━━━━━━━━\u001b[0m\u001b[37m\u001b[0m \u001b[1m1s\u001b[0m 3ms/step - loss: 0.5665 - val_loss: 0.5678\n",
            "Epoch 35/200\n",
            "\u001b[1m320/320\u001b[0m \u001b[32m━━━━━━━━━━━━━━━━━━━━\u001b[0m\u001b[37m\u001b[0m \u001b[1m1s\u001b[0m 3ms/step - loss: 0.5567 - val_loss: 0.5852\n",
            "Epoch 36/200\n",
            "\u001b[1m320/320\u001b[0m \u001b[32m━━━━━━━━━━━━━━━━━━━━\u001b[0m\u001b[37m\u001b[0m \u001b[1m1s\u001b[0m 3ms/step - loss: 0.5798 - val_loss: 0.5612\n",
            "Epoch 37/200\n",
            "\u001b[1m320/320\u001b[0m \u001b[32m━━━━━━━━━━━━━━━━━━━━\u001b[0m\u001b[37m\u001b[0m \u001b[1m1s\u001b[0m 3ms/step - loss: 0.6099 - val_loss: 0.5716\n",
            "Epoch 38/200\n",
            "\u001b[1m320/320\u001b[0m \u001b[32m━━━━━━━━━━━━━━━━━━━━\u001b[0m\u001b[37m\u001b[0m \u001b[1m1s\u001b[0m 3ms/step - loss: 0.5579 - val_loss: 0.5803\n",
            "Epoch 39/200\n",
            "\u001b[1m320/320\u001b[0m \u001b[32m━━━━━━━━━━━━━━━━━━━━\u001b[0m\u001b[37m\u001b[0m \u001b[1m1s\u001b[0m 3ms/step - loss: 0.5626 - val_loss: 0.5593\n",
            "Epoch 40/200\n",
            "\u001b[1m320/320\u001b[0m \u001b[32m━━━━━━━━━━━━━━━━━━━━\u001b[0m\u001b[37m\u001b[0m \u001b[1m1s\u001b[0m 3ms/step - loss: 0.5712 - val_loss: 0.5586\n",
            "Epoch 41/200\n",
            "\u001b[1m320/320\u001b[0m \u001b[32m━━━━━━━━━━━━━━━━━━━━\u001b[0m\u001b[37m\u001b[0m \u001b[1m1s\u001b[0m 4ms/step - loss: 0.5707 - val_loss: 0.5642\n",
            "Epoch 42/200\n",
            "\u001b[1m320/320\u001b[0m \u001b[32m━━━━━━━━━━━━━━━━━━━━\u001b[0m\u001b[37m\u001b[0m \u001b[1m1s\u001b[0m 3ms/step - loss: 0.5492 - val_loss: 0.5581\n",
            "Epoch 43/200\n",
            "\u001b[1m320/320\u001b[0m \u001b[32m━━━━━━━━━━━━━━━━━━━━\u001b[0m\u001b[37m\u001b[0m \u001b[1m1s\u001b[0m 3ms/step - loss: 0.5652 - val_loss: 0.5472\n",
            "Epoch 44/200\n",
            "\u001b[1m320/320\u001b[0m \u001b[32m━━━━━━━━━━━━━━━━━━━━\u001b[0m\u001b[37m\u001b[0m \u001b[1m1s\u001b[0m 3ms/step - loss: 0.5814 - val_loss: 0.5542\n",
            "Epoch 45/200\n",
            "\u001b[1m320/320\u001b[0m \u001b[32m━━━━━━━━━━━━━━━━━━━━\u001b[0m\u001b[37m\u001b[0m \u001b[1m1s\u001b[0m 3ms/step - loss: 0.5436 - val_loss: 0.5776\n",
            "Epoch 46/200\n",
            "\u001b[1m320/320\u001b[0m \u001b[32m━━━━━━━━━━━━━━━━━━━━\u001b[0m\u001b[37m\u001b[0m \u001b[1m1s\u001b[0m 3ms/step - loss: 0.5698 - val_loss: 0.5427\n",
            "Epoch 47/200\n",
            "\u001b[1m320/320\u001b[0m \u001b[32m━━━━━━━━━━━━━━━━━━━━\u001b[0m\u001b[37m\u001b[0m \u001b[1m1s\u001b[0m 3ms/step - loss: 0.5631 - val_loss: 0.5504\n",
            "Epoch 48/200\n",
            "\u001b[1m320/320\u001b[0m \u001b[32m━━━━━━━━━━━━━━━━━━━━\u001b[0m\u001b[37m\u001b[0m \u001b[1m1s\u001b[0m 3ms/step - loss: 0.6375 - val_loss: 0.5781\n",
            "Epoch 49/200\n",
            "\u001b[1m320/320\u001b[0m \u001b[32m━━━━━━━━━━━━━━━━━━━━\u001b[0m\u001b[37m\u001b[0m \u001b[1m1s\u001b[0m 3ms/step - loss: 0.5844 - val_loss: 0.5505\n",
            "Epoch 50/200\n",
            "\u001b[1m320/320\u001b[0m \u001b[32m━━━━━━━━━━━━━━━━━━━━\u001b[0m\u001b[37m\u001b[0m \u001b[1m1s\u001b[0m 3ms/step - loss: 0.5510 - val_loss: 0.5629\n",
            "Epoch 51/200\n",
            "\u001b[1m320/320\u001b[0m \u001b[32m━━━━━━━━━━━━━━━━━━━━\u001b[0m\u001b[37m\u001b[0m \u001b[1m1s\u001b[0m 3ms/step - loss: 0.5426 - val_loss: 0.5374\n",
            "Epoch 52/200\n",
            "\u001b[1m320/320\u001b[0m \u001b[32m━━━━━━━━━━━━━━━━━━━━\u001b[0m\u001b[37m\u001b[0m \u001b[1m2s\u001b[0m 4ms/step - loss: 0.5587 - val_loss: 0.5382\n",
            "Epoch 53/200\n",
            "\u001b[1m320/320\u001b[0m \u001b[32m━━━━━━━━━━━━━━━━━━━━\u001b[0m\u001b[37m\u001b[0m \u001b[1m1s\u001b[0m 3ms/step - loss: 0.5465 - val_loss: 0.5597\n",
            "Epoch 54/200\n",
            "\u001b[1m320/320\u001b[0m \u001b[32m━━━━━━━━━━━━━━━━━━━━\u001b[0m\u001b[37m\u001b[0m \u001b[1m1s\u001b[0m 3ms/step - loss: 0.5450 - val_loss: 0.5436\n",
            "Epoch 55/200\n",
            "\u001b[1m320/320\u001b[0m \u001b[32m━━━━━━━━━━━━━━━━━━━━\u001b[0m\u001b[37m\u001b[0m \u001b[1m1s\u001b[0m 3ms/step - loss: 0.5272 - val_loss: 0.5358\n",
            "Epoch 56/200\n",
            "\u001b[1m320/320\u001b[0m \u001b[32m━━━━━━━━━━━━━━━━━━━━\u001b[0m\u001b[37m\u001b[0m \u001b[1m1s\u001b[0m 3ms/step - loss: 0.5854 - val_loss: 0.5528\n",
            "Epoch 57/200\n",
            "\u001b[1m320/320\u001b[0m \u001b[32m━━━━━━━━━━━━━━━━━━━━\u001b[0m\u001b[37m\u001b[0m \u001b[1m1s\u001b[0m 3ms/step - loss: 0.5445 - val_loss: 0.5423\n",
            "Epoch 58/200\n",
            "\u001b[1m320/320\u001b[0m \u001b[32m━━━━━━━━━━━━━━━━━━━━\u001b[0m\u001b[37m\u001b[0m \u001b[1m1s\u001b[0m 3ms/step - loss: 0.5348 - val_loss: 0.5455\n",
            "Epoch 59/200\n",
            "\u001b[1m320/320\u001b[0m \u001b[32m━━━━━━━━━━━━━━━━━━━━\u001b[0m\u001b[37m\u001b[0m \u001b[1m1s\u001b[0m 3ms/step - loss: 0.5620 - val_loss: 0.5504\n",
            "Epoch 60/200\n",
            "\u001b[1m320/320\u001b[0m \u001b[32m━━━━━━━━━━━━━━━━━━━━\u001b[0m\u001b[37m\u001b[0m \u001b[1m1s\u001b[0m 3ms/step - loss: 0.5422 - val_loss: 0.5343\n",
            "Epoch 61/200\n",
            "\u001b[1m320/320\u001b[0m \u001b[32m━━━━━━━━━━━━━━━━━━━━\u001b[0m\u001b[37m\u001b[0m \u001b[1m1s\u001b[0m 3ms/step - loss: 0.5492 - val_loss: 0.5414\n",
            "Epoch 62/200\n",
            "\u001b[1m320/320\u001b[0m \u001b[32m━━━━━━━━━━━━━━━━━━━━\u001b[0m\u001b[37m\u001b[0m \u001b[1m1s\u001b[0m 4ms/step - loss: 0.5081 - val_loss: 0.5292\n",
            "Epoch 63/200\n",
            "\u001b[1m320/320\u001b[0m \u001b[32m━━━━━━━━━━━━━━━━━━━━\u001b[0m\u001b[37m\u001b[0m \u001b[1m2s\u001b[0m 3ms/step - loss: 0.5417 - val_loss: 0.5338\n",
            "Epoch 64/200\n",
            "\u001b[1m320/320\u001b[0m \u001b[32m━━━━━━━━━━━━━━━━━━━━\u001b[0m\u001b[37m\u001b[0m \u001b[1m1s\u001b[0m 3ms/step - loss: 0.5512 - val_loss: 0.5337\n",
            "Epoch 65/200\n",
            "\u001b[1m320/320\u001b[0m \u001b[32m━━━━━━━━━━━━━━━━━━━━\u001b[0m\u001b[37m\u001b[0m \u001b[1m1s\u001b[0m 3ms/step - loss: 0.5269 - val_loss: 0.5462\n",
            "Epoch 66/200\n",
            "\u001b[1m320/320\u001b[0m \u001b[32m━━━━━━━━━━━━━━━━━━━━\u001b[0m\u001b[37m\u001b[0m \u001b[1m1s\u001b[0m 3ms/step - loss: 0.5053 - val_loss: 0.5385\n",
            "Epoch 67/200\n",
            "\u001b[1m320/320\u001b[0m \u001b[32m━━━━━━━━━━━━━━━━━━━━\u001b[0m\u001b[37m\u001b[0m \u001b[1m1s\u001b[0m 3ms/step - loss: 0.5333 - val_loss: 0.5497\n",
            "Epoch 68/200\n",
            "\u001b[1m320/320\u001b[0m \u001b[32m━━━━━━━━━━━━━━━━━━━━\u001b[0m\u001b[37m\u001b[0m \u001b[1m1s\u001b[0m 3ms/step - loss: 0.5671 - val_loss: 0.5437\n",
            "Epoch 69/200\n",
            "\u001b[1m320/320\u001b[0m \u001b[32m━━━━━━━━━━━━━━━━━━━━\u001b[0m\u001b[37m\u001b[0m \u001b[1m1s\u001b[0m 3ms/step - loss: 0.5618 - val_loss: 0.5440\n",
            "Epoch 70/200\n",
            "\u001b[1m320/320\u001b[0m \u001b[32m━━━━━━━━━━━━━━━━━━━━\u001b[0m\u001b[37m\u001b[0m \u001b[1m1s\u001b[0m 3ms/step - loss: 0.5751 - val_loss: 0.5475\n",
            "Epoch 71/200\n",
            "\u001b[1m320/320\u001b[0m \u001b[32m━━━━━━━━━━━━━━━━━━━━\u001b[0m\u001b[37m\u001b[0m \u001b[1m1s\u001b[0m 3ms/step - loss: 0.5170 - val_loss: 0.5421\n",
            "Epoch 72/200\n",
            "\u001b[1m320/320\u001b[0m \u001b[32m━━━━━━━━━━━━━━━━━━━━\u001b[0m\u001b[37m\u001b[0m \u001b[1m1s\u001b[0m 4ms/step - loss: 0.5316 - val_loss: 0.5331\n"
          ]
        },
        {
          "output_type": "display_data",
          "data": {
            "text/plain": [
              "<Figure size 640x480 with 1 Axes>"
            ],
            "image/png": "[encoded data removed]"
          },
          "metadata": {}
        }
      ],
      "source": [
        "import tensorflow as tf\n",
        "from tensorflow.keras.models import Sequential\n",
        "from tensorflow.keras.layers import Dense, Flatten, Dropout, Input\n",
        "from tensorflow.keras.optimizers import Adam\n",
        "from tensorflow.keras.callbacks import EarlyStopping\n",
        "from sklearn.metrics import r2_score\n",
        "from tensorflow.keras.regularizers import l2, l1, l1_l2\n",
        "\n",
        "def build_dense_model(input_shape, output_units):\n",
        "    model = Sequential()\n",
        "    model.add(Input(shape=input_shape))  # Input layer\n",
        "\n",
        "    model.add(Dense(128, activation='relu', kernel_regularizer=l1(0.001)))\n",
        "    model.add(Dropout(0.1))\n",
        "    model.add(Dense(96, activation='relu', kernel_regularizer=l1(0.001)))\n",
        "    model.add(Dropout(0.3))\n",
        "    model.add(Flatten())\n",
        "    model.add(Dense(64, activation='relu', kernel_regularizer=l1(0.001)))\n",
        "    model.add(Dropout(0.1))\n",
        "    model.add(Dense(output_units))  # Output layer\n",
        "\n",
        "    model.compile(optimizer=Adam(learning_rate=0.001), loss='mse')\n",
        "    return model\n",
        "\n",
        "# --- Usage in your code ---\n",
        "input_shape = (X_train.shape[1], X_train.shape[2])  # (n_past, num_features)\n",
        "output_units = trainY.shape[1]  # 1 (for your target variable)\n",
        "\n",
        "dense_model = build_dense_model(input_shape, output_units)\n",
        "dense_model.summary()\n",
        "\n",
        "# --- Callbacks for training ---\n",
        "early_stopping = EarlyStopping(monitor='val_loss', patience=10, restore_best_weights=True)\n",
        "\n",
        "# --- Train the Dense Model ---\n",
        "dense_history = dense_model.fit(\n",
        "    X_train, y_train,\n",
        "    epochs=200,\n",
        "    batch_size=16,\n",
        "    validation_split=0.1,\n",
        "    verbose=1,\n",
        "    callbacks=[early_stopping]\n",
        ")\n",
        "\n",
        "# --- Visualization ---  (Adapt as needed)\n",
        "plt.plot(dense_history.history['loss'], label='Dense Training Loss')\n",
        "plt.plot(dense_history.history['val_loss'], label='Dense Validation Loss')\n",
        "plt.legend()\n",
        "plt.show()"
      ]
    },
    {
      "cell_type": "code",
      "source": [
        "# --- Evaluate ---\n",
        "y_pred_dense = dense_model.predict(X_test)\n",
        "mse_dense = mean_squared_error(y_test, y_pred_dense)\n",
        "print(f\"Dense Model Mean Squared Error: {mse_dense}\")\n",
        "\n",
        "# --- R2 Score ---\n",
        "y_train_pred_dense = dense_model.predict(X_train)\n",
        "r2_train_dense = r2_score(y_train, y_train_pred_dense)\n",
        "r2_test_dense = r2_score(y_test, y_pred_dense)\n",
        "\n",
        "print(f'Dense Model Training R²: {r2_train_dense}')\n",
        "print(f'Dense Model Test R²: {r2_test_dense}')"
      ],
      "metadata": {
        "colab": {
          "base_uri": "https://localhost:8080/"
        },
        "id": "icZHODyL1FE1",
        "outputId": "47fb4419-b5fe-4a2b-d9cd-7372d9af0fd8"
      },
      "id": "icZHODyL1FE1",
      "execution_count": null,
      "outputs": [
        {
          "output_type": "stream",
          "name": "stdout",
          "text": [
            "\u001b[1m45/45\u001b[0m \u001b[32m━━━━━━━━━━━━━━━━━━━━\u001b[0m\u001b[37m\u001b[0m \u001b[1m0s\u001b[0m 3ms/step\n",
            "Dense Model Mean Squared Error: 0.42280163494422485\n",
            "\u001b[1m178/178\u001b[0m \u001b[32m━━━━━━━━━━━━━━━━━━━━\u001b[0m\u001b[37m\u001b[0m \u001b[1m0s\u001b[0m 1ms/step\n",
            "Dense Model Training R²: 0.595759217851083\n",
            "Dense Model Test R²: 0.592623918070358\n"
          ]
        }
      ]
    }
  ],
  "metadata": {
    "colab": {
      "provenance": []
    },
    "kernelspec": {
      "display_name": "Python 3",
      "language": "python",
      "name": "python3"
    },
    "language_info": {
      "codemirror_mode": {
        "name": "ipython",
        "version": 3
      },
      "file_extension": ".py",
      "mimetype": "text/x-python",
      "name": "python",
      "nbconvert_exporter": "python",
      "pygments_lexer": "ipython3",
      "version": "3.12.8"
    }
  },
  "nbformat": 4,
  "nbformat_minor": 5
}