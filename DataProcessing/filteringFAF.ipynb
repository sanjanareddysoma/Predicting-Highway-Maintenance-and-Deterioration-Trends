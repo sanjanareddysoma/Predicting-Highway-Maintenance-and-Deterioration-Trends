{
 "cells": [
  {
   "cell_type": "code",
   "execution_count": null,
   "metadata": {},
   "outputs": [
    {
     "data": {
      "text/plain": [
       "\"path = 'D:/606/RoadMaintenance/FAF/FAF4.5.1_csv_2013-2018/FAF4.5.1_'\\ndest = 'D:/606/RoadMaintenance/Datasets/WeightedFAF/WeightedAvg'\\n\\nstartYear = 2013\\nendYear = 2018\\n\\nfor year in range(startYear, endYear+1, 1):\\n    df = pd.read_csv(path + f'{year}.csv')\\n\\n    Truck_df = df[df['dms_mode'] == 1]\\n\\n    CFS_Area = Truck_df[((Truck_df['dms_orig'] == 11) & (Truck_df['dms_dest'] == 11)) | ((Truck_df['dms_orig'] == 12) & (Truck_df['dms_dest'] == 12))]\\n\\n    CFS_Area = CFS_Area.drop(columns=['fr_orig', 'fr_dest', 'fr_inmode', 'fr_outmode', 'sctg2', 'trade_type', 'dms_mode'])\\n\\n    #CFS_Area = CFS_Area.rename(columns={f'tons_{year}': 'tons', f'value_{year}': 'value', f'tmiles_{year}': 'tmiles', f'curval_{year}': 'curval'})\\n\\n    CFS_Area = CFS_Area.reset_index(drop=True)\\n\\n    def weighted_average(group):\\n        tons = group['tons']\\n        value = group['value']\\n        tmiles = group['tmiles']\\n        curval = group['curval']\\n        wgt_dist = group['wgt_dist']\\n\\n        total_tons = tons.sum()  # Total weight for each group\\n\\n        # Calculate weighted averages, handling cases where total_tons is zero\\n        weighted_tons = np.where(total_tons == 0, 0, (tons * tons).sum() / total_tons)  # Weight by tons\\n        weighted_value = np.where(total_tons == 0, 0, (value * tons).sum() / total_tons)\\n        weighted_tmiles = np.where(total_tons == 0, 0, (tmiles * tons).sum() / total_tons)\\n        weighted_curval = np.where(total_tons == 0, 0, (curval * tons).sum() / total_tons)\\n        weighted_wgt_dist = np.where(total_tons == 0, 0, (wgt_dist * tons).sum() / total_tons)\\n\\n        return pd.Series({\\n            'tons': weighted_tons,\\n            'value': weighted_value,\\n            'tmiles': weighted_tmiles,\\n            'curval': weighted_curval,\\n            'wgt_dist': weighted_wgt_dist\\n        })\\n\\n    # Group by origin and destination and apply the weighted average function\\n    weighted_average = CFS_Area.groupby(['dms_orig', 'dms_dest']).apply(weighted_average).reset_index()\\n\\n    weighted_average.to_csv(dest + f'{year}.csv')\""
      ]
     },
     "execution_count": 1,
     "metadata": {},
     "output_type": "execute_result"
    }
   ],
   "source": [
    "import pandas as pd\n",
    "import numpy as np\n",
    "\n",
    "path = 'D:/606/RoadMaintenance/FAF/FAF4.5.1_csv_2013-2018/FAF4.5.1_'\n",
    "dest = 'D:/606/RoadMaintenance/Datasets/WeightedFAF/WeightedAvg'\n",
    "\n",
    "startYear = 2013\n",
    "endYear = 2018\n",
    "\n",
    "for year in range(startYear, endYear+1, 1):\n",
    "    df = pd.read_csv(path + f'{year}.csv')\n",
    "\n",
    "    Truck_df = df[df['dms_mode'] == 1]\n",
    "\n",
    "    CFS_Area = Truck_df[((Truck_df['dms_orig'] == 11) & (Truck_df['dms_dest'] == 11)) | ((Truck_df['dms_orig'] == 12) & (Truck_df['dms_dest'] == 12))]\n",
    "\n",
    "    CFS_Area = CFS_Area.drop(columns=['fr_orig', 'fr_dest', 'fr_inmode', 'fr_outmode', 'sctg2', 'trade_type', 'dms_mode'])\n",
    "\n",
    "    #CFS_Area = CFS_Area.rename(columns={f'tons_{year}': 'tons', f'value_{year}': 'value', f'tmiles_{year}': 'tmiles', f'curval_{year}': 'curval'})\n",
    "\n",
    "    CFS_Area = CFS_Area.reset_index(drop=True)\n",
    "\n",
    "    def weighted_average(group):\n",
    "        tons = group['tons']\n",
    "        value = group['value']\n",
    "        tmiles = group['tmiles']\n",
    "        curval = group['curval']\n",
    "        wgt_dist = group['wgt_dist']\n",
    "\n",
    "        total_tons = tons.sum()  # Total weight for each group\n",
    "\n",
    "        # Calculate weighted averages, handling cases where total_tons is zero\n",
    "        weighted_tons = np.where(total_tons == 0, 0, (tons * tons).sum() / total_tons)  # Weight by tons\n",
    "        weighted_value = np.where(total_tons == 0, 0, (value * tons).sum() / total_tons)\n",
    "        weighted_tmiles = np.where(total_tons == 0, 0, (tmiles * tons).sum() / total_tons)\n",
    "        weighted_curval = np.where(total_tons == 0, 0, (curval * tons).sum() / total_tons)\n",
    "        weighted_wgt_dist = np.where(total_tons == 0, 0, (wgt_dist * tons).sum() / total_tons)\n",
    "\n",
    "        return pd.Series({\n",
    "            'tons': weighted_tons,\n",
    "            'value': weighted_value,\n",
    "            'tmiles': weighted_tmiles,\n",
    "            'curval': weighted_curval,\n",
    "            'wgt_dist': weighted_wgt_dist\n",
    "        })\n",
    "\n",
    "    # Group by origin and destination and apply the weighted average function\n",
    "    weighted_average = CFS_Area.groupby(['dms_orig', 'dms_dest']).apply(weighted_average).reset_index()\n",
    "\n",
    "    weighted_average.to_csv(dest + f'{year}.csv')"
   ]
  },
  {
   "cell_type": "code",
   "execution_count": null,
   "metadata": {},
   "outputs": [],
   "source": []
  }
 ],
 "metadata": {
  "kernelspec": {
   "display_name": "Python 3",
   "language": "python",
   "name": "python3"
  },
  "language_info": {
   "codemirror_mode": {
    "name": "ipython",
    "version": 3
   },
   "file_extension": ".py",
   "mimetype": "text/x-python",
   "name": "python",
   "nbconvert_exporter": "python",
   "pygments_lexer": "ipython3",
   "version": "3.12.8"
  }
 },
 "nbformat": 4,
 "nbformat_minor": 2
}
